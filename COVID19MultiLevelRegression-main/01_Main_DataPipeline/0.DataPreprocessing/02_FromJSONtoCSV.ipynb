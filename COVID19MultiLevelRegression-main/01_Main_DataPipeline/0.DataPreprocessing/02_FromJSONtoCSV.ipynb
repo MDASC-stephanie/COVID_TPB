{
 "cells": [
  {
   "cell_type": "code",
   "execution_count": null,
   "metadata": {},
   "outputs": [],
   "source": [
    "import pandas as pd\n",
    "from datetime import datetime"
   ]
  },
  {
   "cell_type": "code",
   "execution_count": null,
   "metadata": {},
   "outputs": [],
   "source": [
    "def combinedDataFrame(listOfDataFrame):\n",
    "    combinedDataFrame = pd.concat(listOfDataFrame)\n",
    "    combinedDataFrame = combinedDataFrame.drop_duplicates()\n",
    "    combinedDataFrame = combinedDataFrame[['created_at', 'id_str', 'full_text', 'lang', 'retweet_count', 'favorite_count']]\n",
    "    return combinedDataFrame"
   ]
  },
  {
   "cell_type": "code",
   "execution_count": null,
   "metadata": {},
   "outputs": [],
   "source": [
    "def dataFramePrep(combinedDataFrame, dateMaster, country):\n",
    "    dateMaster = dateMaster[dateMaster['country'] == country]\n",
    "    combinedDataFrame['dateString'] = combinedDataFrame['created_at'].apply(lambda x: str(x)[:10].replace('-', ''))\n",
    "    dateMaster['dateString'] = dateMaster['date'].apply(lambda x: x.replace('-', ''))\n",
    "    importantDateSet = set(dateMaster['dateString'])\n",
    "    combinedDataFrame['isInPeriod'] = combinedDataFrame['dateString'].apply(lambda x: 1 if x in importantDateSet else 0)\n",
    "    # PRINT THE DISTRIBUTION\n",
    "    # print('DISTRIBUTION OF THE DATE: ')\n",
    "    # print(combinedDataFrame.groupby('isInPeriod').dateString.nunique())\n",
    "    # print()\n",
    "    \n",
    "    ImportantDateDataFrame = combinedDataFrame[combinedDataFrame['isInPeriod'] == 1]\n",
    "    ImportantDateDataFrame = ImportantDateDataFrame.drop('isInPeriod', axis=1)\n",
    "    \n",
    "    UsualDateDataFrame = combinedDataFrame[combinedDataFrame['isInPeriod'] == 0]\n",
    "    UsualDateDataFrame['rowNumberWithinGroup'] = UsualDateDataFrame.groupby(['dateString']).cumcount()+1\n",
    "    usualDateFirst10000 = UsualDateDataFrame[UsualDateDataFrame['rowNumberWithinGroup'] <= 10000]\n",
    "    usualDateFirst10000 = usualDateFirst10000.drop('isInPeriod', axis=1)\n",
    "    usualDateFirst10000 = usualDateFirst10000.drop('rowNumberWithinGroup', axis=1)\n",
    "    \n",
    "    return ImportantDateDataFrame, usualDateFirst10000"
   ]
  },
  {
   "cell_type": "code",
   "execution_count": null,
   "metadata": {},
   "outputs": [],
   "source": [
    "////////////////////////////////////////////////////////////////////////////////////////////////////////////////////////////////////////////////////////////"
   ]
  },
  {
   "cell_type": "code",
   "execution_count": null,
   "metadata": {},
   "outputs": [],
   "source": [
    "# UK DATA\n",
    "UKDate01 = pd.read_json('./UKTweetID_.jsonl', lines = True)\n",
    "print(len(UKDate01))\n",
    "print(max(UKDate01.created_at))\n",
    "print(min(UKDate01.created_at))\n",
    "print()\n",
    "\n",
    "UKDate02 = pd.read_json('./UKTweetIDImportantSupp_.jsonl', lines = True)\n",
    "print(len(UKDate02))\n",
    "print(max(UKDate02.created_at))\n",
    "print(min(UKDate02.created_at))\n",
    "print()\n",
    "\n",
    "UKDate03 = pd.read_json('./UKTweetIDOther10000_.jsonl', lines = True)\n",
    "print(len(UKDate03))\n",
    "print(max(UKDate03.created_at))\n",
    "print(min(UKDate03.created_at))\n",
    "print()\n",
    "\n",
    "UKDate04 = pd.read_json('./UKTweetIDUsualSupp_.jsonl', lines = True)\n",
    "print(len(UKDate04))\n",
    "print(max(UKDate04.created_at))\n",
    "print(min(UKDate04.created_at))"
   ]
  },
  {
   "cell_type": "code",
   "execution_count": null,
   "metadata": {},
   "outputs": [],
   "source": [
    "combinedUKDateset = combinedDataFrame([UKDate01, UKDate02, UKDate03, UKDate04])"
   ]
  },
  {
   "cell_type": "code",
   "execution_count": null,
   "metadata": {},
   "outputs": [],
   "source": [
    "UKImportantDateDataFrame, UKUsualDateDataFrame = dataFramePrep(combinedUKDateset, dateMaster, 'United Kingdom')"
   ]
  },
  {
   "cell_type": "code",
   "execution_count": null,
   "metadata": {},
   "outputs": [],
   "source": [
    "UKImportantDateDataFrame.to_csv('./UKImportantPeriodTweets.csv', index = False)\n",
    "UKUsualDateDataFrame.to_csv('./UKUnimportantPeriodTweets.csv', index = False)"
   ]
  },
  {
   "cell_type": "code",
   "execution_count": null,
   "metadata": {},
   "outputs": [],
   "source": [
    "////////////////////////////////////////////////////////////////////////////////////////////////////////////////////////////////////////////////////////////"
   ]
  },
  {
   "cell_type": "code",
   "execution_count": null,
   "metadata": {},
   "outputs": [],
   "source": [
    "# US DATA\n",
    "USDate01 = pd.read_json('./USTweetID_.jsonl', lines = True)\n",
    "print(len(USDate01))\n",
    "print(max(USDate01.created_at))\n",
    "print(min(USDate01.created_at))\n",
    "print()\n",
    "\n",
    "USDate02 = pd.read_json('./USTweetIDImportantSupp_.jsonl', lines = True)\n",
    "print(len(USDate02))\n",
    "print(max(USDate02.created_at))\n",
    "print(min(USDate02.created_at))\n",
    "print()\n",
    "\n",
    "USDate03 = pd.read_json('./USTweetIDOther10000_.jsonl', lines = True)\n",
    "print(len(USDate03))\n",
    "print(max(USDate03.created_at))\n",
    "print(min(USDate03.created_at))\n",
    "print()\n",
    "\n",
    "USDate04 = pd.read_json('./USTweetIDUsualSupp_.jsonl', lines = True)\n",
    "print(len(USDate04))\n",
    "print(max(USDate04.created_at))\n",
    "print(min(USDate04.created_at))\n",
    "print()\n",
    "\n",
    "USDate05 = pd.read_json('./USTweetIDImportantDateSupp2022_.jsonl', lines = True)\n",
    "print(len(USDate05))\n",
    "print(max(USDate05.created_at))\n",
    "print(min(USDate05.created_at))\n",
    "print()"
   ]
  },
  {
   "cell_type": "code",
   "execution_count": null,
   "metadata": {},
   "outputs": [],
   "source": [
    "combinedUSDateset = combinedDataFrame([USDate01, USDate02, USDate03, USDate04, USDate05])"
   ]
  },
  {
   "cell_type": "code",
   "execution_count": null,
   "metadata": {},
   "outputs": [],
   "source": [
    "USImportantDateDataFrame, USUsualDateDataFrame = dataFramePrep(combinedUSDateset, dateMaster, 'United States')"
   ]
  },
  {
   "cell_type": "code",
   "execution_count": null,
   "metadata": {},
   "outputs": [],
   "source": [
    "USImportantDateDataFrame.to_csv('./USImportantPeriodTweets.csv', index = False)\n",
    "USUsualDateDataFrame.to_csv('./USUnimportantPeriodTweets.csv', index = False)"
   ]
  },
  {
   "cell_type": "code",
   "execution_count": null,
   "metadata": {},
   "outputs": [],
   "source": [
    "////////////////////////////////////////////////////////////////////////////////////////////////////////////////////////////////////////////////////////////"
   ]
  },
  {
   "cell_type": "code",
   "execution_count": null,
   "metadata": {},
   "outputs": [],
   "source": [
    "# AUS DATA\n",
    "AUSData01 = pd.read_json('./Australia_.jsonl', lines = True)\n",
    "print(len(AUSData01))\n",
    "print(max(AUSData01.created_at))\n",
    "print(min(AUSData01.created_at))\n",
    "print()\n",
    "\n",
    "AUSData02 = pd.read_json('./Australia2_.jsonl', lines = True)\n",
    "print(len(AUSData02))\n",
    "print(max(AUSData02.created_at))\n",
    "print(min(AUSData02.created_at))\n",
    "print()\n",
    "\n",
    "AUSData03 = pd.read_json('./AustraliaTweetID_.jsonl', lines = True)\n",
    "print(len(AUSData03))\n",
    "print(max(AUSData03.created_at))\n",
    "print(min(AUSData03.created_at))\n",
    "print()"
   ]
  },
  {
   "cell_type": "code",
   "execution_count": null,
   "metadata": {},
   "outputs": [],
   "source": [
    "AUSData = combinedDataFrame([AUSData01, AUSData02, AUSData03])"
   ]
  },
  {
   "cell_type": "code",
   "execution_count": null,
   "metadata": {},
   "outputs": [],
   "source": [
    "AUSImportantDateDataFrame, AUSUsualDateDataFrame = dataFramePrep(AUSData, dateMaster, 'Australia')"
   ]
  },
  {
   "cell_type": "code",
   "execution_count": null,
   "metadata": {},
   "outputs": [],
   "source": [
    "AUSImportantDateDataFrame.to_csv('./NewFeed/AUSImportantPeriodTweets_.csv', index = False)\n",
    "AUSUsualDateDataFrame.to_csv('./NewFeed/AUSUnimportantPeriodTweets_.csv', index = False)"
   ]
  },
  {
   "cell_type": "code",
   "execution_count": null,
   "metadata": {},
   "outputs": [],
   "source": [
    "////////////////////////////////////////////////////////////////////////////////////////////////////////////////////////////////////////////////////////////"
   ]
  },
  {
   "cell_type": "code",
   "execution_count": null,
   "metadata": {},
   "outputs": [],
   "source": [
    "# CAN DATA\n",
    "CANData01 = pd.read_json('./Canada2_.jsonl', lines = True)\n",
    "print(len(CANData01))\n",
    "print(max(CANData01.created_at))\n",
    "print(min(CANData01.created_at))\n",
    "print()"
   ]
  },
  {
   "cell_type": "code",
   "execution_count": null,
   "metadata": {},
   "outputs": [],
   "source": [
    "CANImportantDateDataFrame, CANUsualDateDataFrame = dataFramePrep(CANData01, dateMaster, 'Canada')"
   ]
  },
  {
   "cell_type": "code",
   "execution_count": null,
   "metadata": {},
   "outputs": [],
   "source": [
    "CANImportantDateDataFrame.to_csv('./NewFeed/CANImportantPeriodTweets.csv', index = False)\n",
    "CANUsualDateDataFrame.to_csv('./NewFeed/CANUnimportantPeriodTweets.csv', index = False)"
   ]
  },
  {
   "cell_type": "code",
   "execution_count": null,
   "metadata": {},
   "outputs": [],
   "source": []
  }
 ],
 "metadata": {
  "kernelspec": {
   "display_name": "Python 3",
   "language": "python",
   "name": "python3"
  },
  "language_info": {
   "codemirror_mode": {
    "name": "ipython",
    "version": 3
   },
   "file_extension": ".py",
   "mimetype": "text/x-python",
   "name": "python",
   "nbconvert_exporter": "python",
   "pygments_lexer": "ipython3",
   "version": "3.8.5"
  }
 },
 "nbformat": 4,
 "nbformat_minor": 4
}
